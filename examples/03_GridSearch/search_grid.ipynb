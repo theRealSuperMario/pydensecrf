{
 "cells": [
  {
   "cell_type": "code",
   "execution_count": null,
   "metadata": {},
   "outputs": [],
   "source": [
    "import sys\n",
    "from sklearn.model_selection import ParameterGrid\n",
    "import numpy as np\n",
    "import pandas as pd\n",
    "sys.path.insert(0, \"../interactive\")\n",
    "import utils\n",
    "\n",
    "from matplotlib import pyplot as plt\n",
    "from supermariopy import plotting\n",
    "import os"
   ]
  },
  {
   "cell_type": "markdown",
   "metadata": {},
   "source": [
    "# CRF parameters"
   ]
  },
  {
   "cell_type": "code",
   "execution_count": null,
   "metadata": {},
   "outputs": [],
   "source": [
    "# change these values here\n",
    "theta_alpha = np.arange(1, 50, 5)\n",
    "theta_beta = np.arange(1, 50, 5)\n",
    "theta_gamma = [3]\n",
    "compat = [3]\n",
    "pairwise = [False]\n",
    "\n",
    "y_ticks = theta_alpha\n",
    "y_label = r\"$\\theta_\\alpha$\"\n",
    "x_ticks = theta_beta\n",
    "x_label = r\"$\\theta_\\beta$\""
   ]
  },
  {
   "cell_type": "markdown",
   "metadata": {},
   "source": [
    "when done figuring the grid together, convert notebook to script and run"
   ]
  },
  {
   "cell_type": "markdown",
   "metadata": {},
   "source": [
    "# Dont change the following lines"
   ]
  },
  {
   "cell_type": "code",
   "execution_count": null,
   "metadata": {},
   "outputs": [],
   "source": [
    "param_grid = {'theta_alpha': theta_alpha, 'theta_beta': theta_beta, \"theta_gamma\" : theta_gamma, \"compat\" : compat, \"pairwise\" : pairwise}"
   ]
  },
  {
   "cell_type": "code",
   "execution_count": null,
   "metadata": {},
   "outputs": [],
   "source": [
    "df = pd.DataFrame(list(ParameterGrid(param_grid)))\n",
    "df.to_csv(\"grid.csv\", index=False)\n",
    "print(df)"
   ]
  },
  {
   "cell_type": "code",
   "execution_count": null,
   "metadata": {},
   "outputs": [],
   "source": [
    "from supermariopy import imageutils"
   ]
  },
  {
   "cell_type": "code",
   "execution_count": null,
   "metadata": {},
   "outputs": [],
   "source": [
    "for fn_image in utils.image_files:\n",
    "    canvas = []\n",
    "    for param in ParameterGrid(param_grid):\n",
    "        img, gt_rgb, prior_anno_rgb, map_rgb = utils.run_crf(**param, image_select=fn_image)\n",
    "        canvas.append(map_rgb)\n",
    "    canvas = imageutils.batch_to_canvas(np.stack(canvas, axis=0))\n",
    "    fig = plt.figure(figsize=(20, 15))\n",
    "    ax_img = plt.subplot2grid((3, 3), (0, 0))\n",
    "    ax_gt = plt.subplot2grid((3, 3), (0, 1))\n",
    "    ax_prior = plt.subplot2grid((3, 3), (0, 2))\n",
    "    ax_grid = plt.subplot2grid((3, 3), (1, 0), colspan=3, rowspan=2)\n",
    "\n",
    "    plotting.plot_canvas(canvas, img.shape[1], img.shape[0], fig=fig, ax=ax_grid)\n",
    "    ax_grid.set_xlabel(x_label)\n",
    "    ax_grid.set_xticklabels(x_ticks)\n",
    "\n",
    "    ax_grid.set_ylabel(y_label)\n",
    "    ax_grid.set_yticklabels(y_ticks)\n",
    "\n",
    "    ax_img.imshow(img)\n",
    "    ax_img.set_title(\"Image\")\n",
    "\n",
    "    ax_gt.imshow(gt_rgb)\n",
    "    ax_gt.set_title(\"GT\")\n",
    "\n",
    "    ax_prior.imshow(prior_anno_rgb)\n",
    "    ax_prior.set_title(\"Unary\")\n",
    "\n",
    "    plotting.set_all_axis_off([ax_img, ax_gt, ax_prior])\n",
    "    plotting.set_all_fontsize([ax_img, ax_gt, ax_prior, ax_grid], 22)\n",
    "\n",
    "    plt.savefig(\"grid_\" + os.path.basename(fn_image).replace(\"bmp\", \"png\"))"
   ]
  },
  {
   "cell_type": "code",
   "execution_count": null,
   "metadata": {},
   "outputs": [],
   "source": [
    "from matplotlib import pyplot as plt\n",
    "from supermariopy import plotting"
   ]
  },
  {
   "cell_type": "code",
   "execution_count": null,
   "metadata": {},
   "outputs": [],
   "source": []
  }
 ],
 "metadata": {
  "file_extension": ".py",
  "kernelspec": {
   "display_name": "Python (supermariopy)",
   "name": "supermariopy"
  },
  "language_info": {
   "codemirror_mode": {
    "name": "ipython",
    "version": 3
   },
   "name": "python",
   "version": "3.7.4-final"
  },
  "mimetype": "text/x-python",
  "name": "python",
  "npconvert_exporter": "python",
  "pygments_lexer": "ipython3",
  "version": 3
 },
 "nbformat": 4,
 "nbformat_minor": 2
}
