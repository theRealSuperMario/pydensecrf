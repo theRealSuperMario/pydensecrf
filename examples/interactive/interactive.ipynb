{
 "cells": [
  {
   "cell_type": "markdown",
   "metadata": {},
   "source": [
    "# Setup\n",
    "\n",
    "* download MSRC dataset and symlink it here\n",
    "\n",
    "```\n",
    "wget http://download.microsoft.com/download/3/3/9/339D8A24-47D7-412F-A1E8-1A415BC48A15/msrc_objcategimagedatabase_v2.zip\n",
    "unzip msrc_objcategimagedatabase_v2.zip\n",
    "\n",
    "# ln -s symlink it here if you put it somewhere else\n",
    "```"
   ]
  },
  {
   "cell_type": "code",
   "execution_count": null,
   "metadata": {},
   "outputs": [],
   "source": [
    "%load_ext nb_black\n",
    "import ipywidgets as widgets\n",
    "import cv2\n",
    "import glob\n",
    "import os\n",
    "import numpy as np\n",
    "import pydensecrf.densecrf as dcrf\n",
    "from supermariopy import plotting\n",
    "from pydensecrf.utils import (\n",
    "    unary_from_labels,\n",
    "    create_pairwise_bilateral,\n",
    "    create_pairwise_gaussian,\n",
    ")\n",
    "from matplotlib import pyplot as plt\n",
    "import sys\n",
    "from utils import run_crf"
   ]
  },
  {
   "cell_type": "code",
   "execution_count": null,
   "metadata": {},
   "outputs": [],
   "source": [
    "image_files = sorted(glob.glob(\"MSRC_ObjCategImageDatabase_v2/SegmentationsGTHighQuality/*_s.bmp\"))"
   ]
  },
  {
   "cell_type": "code",
   "execution_count": null,
   "metadata": {},
   "outputs": [],
   "source": [
    "def append_fname(x, suffix):\n",
    "    pardir = os.path.dirname(x)\n",
    "    basename = os.path.basename(x)\n",
    "    fname, ext = os.path.splitext(basename)\n",
    "    return os.path.join(pardir, fname + suffix + ext)"
   ]
  },
  {
   "cell_type": "code",
   "execution_count": null,
   "metadata": {},
   "outputs": [],
   "source": [
    "image_select = widgets.RadioButtons(options=image_files, value=image_files[0])\n",
    "\n",
    "theta_alpha = widgets.IntSlider(value=1, min=1, max=100, step=5, continuous_update=False,)\n",
    "theta_beta = widgets.IntSlider(value=1, min=1, max=100, step=5, continuous_update=False,)\n",
    "theta_gamma = widgets.IntSlider(value=1, min=1, max=100, step=5, continuous_update=False,)\n",
    "compat = widgets.IntSlider(value=1, min=1, max=100, step=1, continuous_update=False,)\n",
    "pairwise = widgets.ToggleButton(value=False, description=\"Pairwise potential\")\n",
    "\n",
    "def _plot(theta_alpha, theta_beta, theta_gamma, compat, pairwise, image_select):\n",
    "    plt.close(\"all\")\n",
    "    img, gt_rgb, prior_anno_rgb, map_rgb = run_crf(theta_alpha, theta_beta, theta_gamma, compat, pairwise, image_select)\n",
    "    \n",
    "    fig, axes = plt.subplots(2, 2, figsize=(10, 10))\n",
    "    axes = axes.ravel()\n",
    "    axes[0].imshow(img)\n",
    "    axes[0].set_title(\"Image\")\n",
    "    axes[1].imshow(gt_rgb)\n",
    "    axes[1].set_title(\"GT\")\n",
    "    axes[2].imshow(prior_anno_rgb)\n",
    "    axes[2].set_title(\"Unary\")\n",
    "    axes[3].imshow(map_rgb[::-1])\n",
    "    axes[3].set_title(\"MAP\")\n",
    "    plotting.set_all_axis_off(axes)\n",
    "    plt.tight_layout()\n",
    "    "
   ]
  },
  {
   "cell_type": "code",
   "execution_count": null,
   "metadata": {},
   "outputs": [],
   "source": [
    "widgets.interact(_plot, theta_alpha=theta_alpha, theta_beta=theta_beta, theta_gamma=theta_gamma, compat=compat, pairwise=pairwise, image_select=image_select)"
   ]
  },
  {
   "cell_type": "markdown",
   "metadata": {},
   "source": [
    "# Notes\n",
    "\n",
    "* 11_24_s, $\\theta_\\alpha = 41, \\theta_\\beta = 46, \\theta_\\gamma = 1, compat=1$ --> toggle pairwise potential"
   ]
  },
  {
   "cell_type": "code",
   "execution_count": null,
   "metadata": {},
   "outputs": [],
   "source": []
  }
 ],
 "metadata": {
  "file_extension": ".py",
  "kernelspec": {
   "display_name": "Python (supermariopy)",
   "language": "python",
   "name": "supermariopy"
  },
  "language_info": {
   "codemirror_mode": {
    "name": "ipython",
    "version": 3
   },
   "file_extension": ".py",
   "mimetype": "text/x-python",
   "name": "python",
   "nbconvert_exporter": "python",
   "pygments_lexer": "ipython3",
   "version": "3.7.4"
  },
  "mimetype": "text/x-python",
  "name": "python",
  "npconvert_exporter": "python",
  "pygments_lexer": "ipython3",
  "version": 3
 },
 "nbformat": 4,
 "nbformat_minor": 4
}
